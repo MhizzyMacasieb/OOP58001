{
  "nbformat": 4,
  "nbformat_minor": 0,
  "metadata": {
    "colab": {
      "provenance": [],
      "authorship_tag": "ABX9TyNLUZXMsOWscd/0fngR4KWc",
      "include_colab_link": true
    },
    "kernelspec": {
      "name": "python3",
      "display_name": "Python 3"
    },
    "language_info": {
      "name": "python"
    }
  },
  "cells": [
    {
      "cell_type": "markdown",
      "metadata": {
        "id": "view-in-github",
        "colab_type": "text"
      },
      "source": [
        "<a href=\"https://colab.research.google.com/github/MhizzyMacasieb/OOP58001/blob/main/List_of_Tuples_and_Dictionaries.ipynb\" target=\"_parent\"><img src=\"https://colab.research.google.com/assets/colab-badge.svg\" alt=\"Open In Colab\"/></a>"
      ]
    },
    {
      "cell_type": "markdown",
      "source": [
        "**Function**"
      ],
      "metadata": {
        "id": "uCrNu15FL7Nz"
      }
    },
    {
      "cell_type": "code",
      "execution_count": 3,
      "metadata": {
        "colab": {
          "base_uri": "https://localhost:8080/"
        },
        "id": "uIdAlreeHTMG",
        "outputId": "f792ec8f-de83-46c8-d7e1-348f70a272a9"
      },
      "outputs": [
        {
          "output_type": "execute_result",
          "data": {
            "text/plain": [
              "90"
            ]
          },
          "metadata": {},
          "execution_count": 3
        }
      ],
      "source": [
        "class shapes:\n",
        "  def __init__(self,length,width):\n",
        "    self.length = length\n",
        "    self.width = width\n",
        "  def area(self):\n",
        "    return self.length * self.width\n",
        "rectangle=shapes(18,5)\n",
        "rectangle.area()"
      ]
    },
    {
      "cell_type": "code",
      "source": [
        "class shapes:\n",
        "  def __init__(self,side):\n",
        "    self.side = side\n",
        "  def areasqr(self):\n",
        "    return self.side**2\n",
        "square=shapes(5)\n",
        "square.areasqr()"
      ],
      "metadata": {
        "colab": {
          "base_uri": "https://localhost:8080/"
        },
        "id": "xC8jwtcYPvEl",
        "outputId": "eada095c-9193-45a1-b84b-df01b76def44"
      },
      "execution_count": 5,
      "outputs": [
        {
          "output_type": "execute_result",
          "data": {
            "text/plain": [
              "25"
            ]
          },
          "metadata": {},
          "execution_count": 5
        }
      ]
    },
    {
      "cell_type": "code",
      "source": [
        "class Person:\n",
        "  def __init__(self, name, age):\n",
        "    self.name = name\n",
        "    self.age = age\n",
        "  def name_age(self):\n",
        "    return self.name + self.age\n",
        "\n",
        "identity=Person(\"MACASIEB, Mary Mhizzy D\",\" 21 years old\")\n",
        "identity.name_age()"
      ],
      "metadata": {
        "colab": {
          "base_uri": "https://localhost:8080/",
          "height": 35
        },
        "id": "rElSXwupQiI8",
        "outputId": "cc304f06-898c-4a78-9afd-dc61fb44a18b"
      },
      "execution_count": 14,
      "outputs": [
        {
          "output_type": "execute_result",
          "data": {
            "text/plain": [
              "'MACASIEB, Mary Mhizzy D 21 years old'"
            ],
            "application/vnd.google.colaboratory.intrinsic+json": {
              "type": "string"
            }
          },
          "metadata": {},
          "execution_count": 14
        }
      ]
    },
    {
      "cell_type": "code",
      "source": [
        "pi = 3.14159\n",
        "varlist = ['abc',1,'def',2]\n",
        "print(varlist[0])\n",
        "\n",
        "varlist.append('ghi')\n",
        "print(varlist)\n",
        "varlist.remove(2)\n",
        "print(varlist)"
      ],
      "metadata": {
        "colab": {
          "base_uri": "https://localhost:8080/"
        },
        "id": "d7OGpRodVbF6",
        "outputId": "77752528-30bf-4767-e566-bd60c7962895"
      },
      "execution_count": 8,
      "outputs": [
        {
          "output_type": "stream",
          "name": "stdout",
          "text": [
            "abc\n",
            "['abc', 1, 'def', 2, 'ghi']\n",
            "['abc', 1, 'def', 'ghi']\n"
          ]
        }
      ]
    },
    {
      "cell_type": "code",
      "source": [
        "students = {\n",
        "            1: \"ana\",\n",
        "            2: \"billy\",\n",
        "            3: \"maria\",\n",
        "            4: \"joy\",\n",
        "            3: \"bessy\"\n",
        "\n",
        "}\n",
        "print(students)"
      ],
      "metadata": {
        "colab": {
          "base_uri": "https://localhost:8080/"
        },
        "id": "Oo3frKikWfCK",
        "outputId": "e25ee499-c1e1-40f7-dca8-8b1d51c735e6"
      },
      "execution_count": 10,
      "outputs": [
        {
          "output_type": "stream",
          "name": "stdout",
          "text": [
            "{1: 'ana', 2: 'billy', 3: 'bessy', 4: 'joy'}\n"
          ]
        }
      ]
    }
  ]
}