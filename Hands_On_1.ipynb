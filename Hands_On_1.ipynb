{
  "nbformat": 4,
  "nbformat_minor": 0,
  "metadata": {
    "colab": {
      "provenance": [],
      "authorship_tag": "ABX9TyM+4PbjRHrny0hs2PwBXS+h",
      "include_colab_link": true
    },
    "kernelspec": {
      "name": "python3",
      "display_name": "Python 3"
    },
    "language_info": {
      "name": "python"
    }
  },
  "cells": [
    {
      "cell_type": "markdown",
      "metadata": {
        "id": "view-in-github",
        "colab_type": "text"
      },
      "source": [
        "<a href=\"https://colab.research.google.com/github/MhizzyMacasieb/OOP58001/blob/main/Hands_On_1.ipynb\" target=\"_parent\"><img src=\"https://colab.research.google.com/assets/colab-badge.svg\" alt=\"Open In Colab\"/></a>"
      ]
    },
    {
      "cell_type": "code",
      "execution_count": 3,
      "metadata": {
        "colab": {
          "base_uri": "https://localhost:8080/"
        },
        "id": "HJK5Wyk53us-",
        "outputId": "b3097abc-fe61-47e6-93ce-7f9cb929d355"
      },
      "outputs": [
        {
          "output_type": "stream",
          "name": "stdout",
          "text": [
            "Student 1\n",
            "_______________________\n",
            "Prelim Marks of Student 1 is : 91.72 \n",
            "Student 2\n",
            "_______________________\n",
            "Prelim Marks of Student 2 is : 87.64 \n",
            "Student 3\n",
            "_______________________\n",
            "Prelim Marks of Student 3 is : 87.8 \n",
            "Student 1\n",
            "_______________________\n",
            "Midterm Marks of Student 1 is : 91.72 \n",
            "Student 2\n",
            "_______________________\n",
            "Midterm Marks of Student 2 is : 87.64 \n",
            "Student 3\n",
            "_______________________\n",
            "Midterm Marks of Student 3 is : 87.8 \n",
            "Student 1\n",
            "_______________________\n",
            "Final Marks of Student 1 is : 91.72 \n",
            "Student 2\n",
            "_______________________\n",
            "Final Marks of Student 2 is : 87.64 \n",
            "Student 3\n",
            "_______________________\n",
            "Final Marks of Student 3 is : 87.8 \n"
          ]
        }
      ],
      "source": [
        "class Person:\n",
        "  def __init__(self,std1,std2,std3,pre,mid,fin):\n",
        "    self.std1 = std1\n",
        "    self.std2 = std2\n",
        "    self.std3 = std3\n",
        "    self.pre = pre\n",
        "    self.mid = mid\n",
        "    self.fin = fin\n",
        "\n",
        "Student1 = { \"name\":\"Student 1\",\n",
        "\t\t\"Prelim\" : [82],\n",
        "\t\t\"Midterm\" : [92],\n",
        "\t\t\"Final\" : [98.80]\n",
        "\t}\n",
        "\t\t\n",
        "Student2 = { \"name\":\"Student 2\",\n",
        "\t\t\"Prelim\" : [86],\n",
        "\t\t\"Midterm\" : [88],\n",
        "\t\t\"Final\" : [88.60]\n",
        "\t\t}\n",
        "\n",
        "Student3 = { \"name\" : \"Student 3\",\n",
        "\t\t\"Prelim\" : [92],\n",
        "\t\t\"Midterm\" : [94],\n",
        "\t\t\"Final\" : [80]\n",
        "\t\t}\n",
        "\n",
        "def get_average(marks):\n",
        "\ttotal_sum = sum(marks)\n",
        "\ttotal_sum = float(total_sum)\n",
        "\treturn total_sum / len(marks)\n",
        "\t\n",
        " \n",
        "def calculate_total_average(students):\n",
        "\tPrelim = get_average(students[\"Prelim\"])\n",
        "\tMidterm = get_average(students[\"Midterm\"])\n",
        "\tFinal = get_average(students[\"Final\"])\n",
        "\treturn (0.3 * Prelim + 0.3 * Midterm + 0.4 * Final)\n",
        "\n",
        "students = [Student1, Student2, Student3]\n",
        "\n",
        "for i in students :\n",
        "  print(i[\"name\"])\n",
        "  print(\"_______________________\")\n",
        "  print(\"Prelim Marks of %s is : %s \" %(i[\"name\"],\n",
        "    calculate_total_average(i)))\n",
        "\n",
        "for i in students :\n",
        "  print(i[\"name\"])\n",
        "  print(\"_______________________\")\n",
        "  print(\"Midterm Marks of %s is : %s \" %(i[\"name\"],\n",
        "    calculate_total_average(i)))\n",
        "\n",
        "for i in students :\n",
        "  print(i[\"name\"])\n",
        "  print(\"_______________________\")\n",
        "  print(\"Final Marks of %s is : %s \" %(i[\"name\"],\n",
        "    calculate_total_average(i)))"
      ]
    }
  ]
}