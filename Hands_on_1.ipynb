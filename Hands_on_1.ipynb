{
  "nbformat": 4,
  "nbformat_minor": 0,
  "metadata": {
    "colab": {
      "provenance": [],
      "authorship_tag": "ABX9TyOHyJLmt8XQ2dop9k2vvwvx",
      "include_colab_link": true
    },
    "kernelspec": {
      "name": "python3",
      "display_name": "Python 3"
    },
    "language_info": {
      "name": "python"
    }
  },
  "cells": [
    {
      "cell_type": "markdown",
      "metadata": {
        "id": "view-in-github",
        "colab_type": "text"
      },
      "source": [
        "<a href=\"https://colab.research.google.com/github/MhizzyMacasieb/OOP58001/blob/main/Hands_on_1.ipynb\" target=\"_parent\"><img src=\"https://colab.research.google.com/assets/colab-badge.svg\" alt=\"Open In Colab\"/></a>"
      ]
    },
    {
      "cell_type": "markdown",
      "source": [],
      "metadata": {
        "id": "9TVU5QO6bI9B"
      }
    },
    {
      "cell_type": "code",
      "execution_count": 7,
      "metadata": {
        "colab": {
          "base_uri": "https://localhost:8080/",
          "height": 236
        },
        "id": "9yZ46DT_WQCw",
        "outputId": "bb732fef-aa67-4dbc-f6e8-f26632fd5e12"
      },
      "outputs": [
        {
          "output_type": "error",
          "ename": "NameError",
          "evalue": "ignored",
          "traceback": [
            "\u001b[0;31m---------------------------------------------------------------------------\u001b[0m",
            "\u001b[0;31mNameError\u001b[0m                                 Traceback (most recent call last)",
            "\u001b[0;32m<ipython-input-7-aa10eb7eae72>\u001b[0m in \u001b[0;36m<module>\u001b[0;34m\u001b[0m\n\u001b[1;32m     37\u001b[0m   \u001b[0;32mreturn\u001b[0m\u001b[0;34m(\u001b[0m\u001b[0;36m0.3\u001b[0m \u001b[0;34m*\u001b[0m \u001b[0mPrelim\u001b[0m \u001b[0;34m+\u001b[0m \u001b[0;36m0.3\u001b[0m \u001b[0;34m*\u001b[0m \u001b[0mMidterm\u001b[0m \u001b[0;34m+\u001b[0m \u001b[0;36m0.4\u001b[0m \u001b[0;34m*\u001b[0m \u001b[0mFinal\u001b[0m\u001b[0;34m)\u001b[0m\u001b[0;34m\u001b[0m\u001b[0;34m\u001b[0m\u001b[0m\n\u001b[1;32m     38\u001b[0m \u001b[0;34m\u001b[0m\u001b[0m\n\u001b[0;32m---> 39\u001b[0;31m \u001b[0mstudents\u001b[0m \u001b[0;34m=\u001b[0m \u001b[0;34m[\u001b[0m\u001b[0mStudent1\u001b[0m\u001b[0;34m,\u001b[0m \u001b[0mStudent2\u001b[0m\u001b[0;34m,\u001b[0m \u001b[0mStudent3\u001b[0m\u001b[0;34m]\u001b[0m\u001b[0;34m\u001b[0m\u001b[0;34m\u001b[0m\u001b[0m\n\u001b[0m\u001b[1;32m     40\u001b[0m \u001b[0;34m\u001b[0m\u001b[0m\n\u001b[1;32m     41\u001b[0m \u001b[0;32mfor\u001b[0m \u001b[0mi\u001b[0m \u001b[0;32min\u001b[0m \u001b[0mstudents\u001b[0m \u001b[0;34m:\u001b[0m\u001b[0;34m\u001b[0m\u001b[0;34m\u001b[0m\u001b[0m\n",
            "\u001b[0;31mNameError\u001b[0m: name 'Student1' is not defined"
          ]
        }
      ],
      "source": [
        "class Person:\n",
        "  def __init__(self,std1,std2,std3,pre,mid,fin):\n",
        "    self.std1 = std1\n",
        "    self.std2 = std2\n",
        "    self.std3 = std3\n",
        "    self.pre = pre\n",
        "    self.mid = mid\n",
        "    self.fin = fin\n",
        "\n",
        "student1 = {\"name\" : \"Student 1\",\n",
        "           \"Prelim\" : [82],\n",
        "           \"Midterm\" : [94],\n",
        "           \"Final\" : [97.90]\n",
        "           }\n",
        "\n",
        "student2 = {\"name\" : \"Student 2\",\n",
        "           \"Prelim\" : [80],\n",
        "           \"Midterm\" : [98],\n",
        "           \"Final\" : [87.90]\n",
        "           }\n",
        "\n",
        "student3 = {\"name\" : \"Student 3\",\n",
        "           \"Prelim\" : [92],\n",
        "           \"Midterm\" : [96],\n",
        "           \"Final\" : [92]\n",
        "           }\n",
        "\n",
        "def get_average(marks):\n",
        "  total_sum = sum(marks)\n",
        "  total_sum = float(total_sum)\n",
        "  return total_sum / len(marks)\n",
        "\n",
        "def calculate_total_average(student):\n",
        "  Prelim = get_average(student[\"Prelim\"])\n",
        "  Midterm = get_average(student[\"Midterm\"])\n",
        "  Final = get_average(student[\"Final\"])\n",
        "  return(0.3 * Prelim + 0.3 * Midterm + 0.4 * Final)\n",
        "\n",
        "students = [Student1, Student2, Student3]\n",
        "\n",
        "for i in students :\n",
        "  print(i[\"name\"])\n",
        "  print(\"__________\")\n",
        "  print(\"Prelim Marks of %is = %s \" %(i[\"name\"],\n",
        "          calculate_total_average(i)))\n",
        "  \n",
        "for i in students :\n",
        "  print(i[\"name\"])\n",
        "  print(\"__________\")\n",
        "  print(\"Midterm Marks of %is = %s \" %(i[\"name\"],\n",
        "          calculate_total_average(i)))\n",
        "  \n",
        "for i in students :\n",
        "  print(i[\"name\"])\n",
        "  print(\"__________\")\n",
        "  print(\"Final Marks of %is = %s \" %(i[\"name\"],\n",
        "          calculate_total_average(i)))"
      ]
    }
  ]
}