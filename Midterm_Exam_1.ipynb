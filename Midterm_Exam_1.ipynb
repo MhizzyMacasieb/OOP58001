{
  "nbformat": 4,
  "nbformat_minor": 0,
  "metadata": {
    "colab": {
      "provenance": [],
      "authorship_tag": "ABX9TyNHIjJGfUnztYYLFtOl/3Mz",
      "include_colab_link": true
    },
    "kernelspec": {
      "name": "python3",
      "display_name": "Python 3"
    },
    "language_info": {
      "name": "python"
    }
  },
  "cells": [
    {
      "cell_type": "markdown",
      "metadata": {
        "id": "view-in-github",
        "colab_type": "text"
      },
      "source": [
        "<a href=\"https://colab.research.google.com/github/MhizzyMacasieb/OOP58001/blob/main/Midterm_Exam_1.ipynb\" target=\"_parent\"><img src=\"https://colab.research.google.com/assets/colab-badge.svg\" alt=\"Open In Colab\"/></a>"
      ]
    },
    {
      "cell_type": "markdown",
      "source": [
        "**CIRCLE**"
      ],
      "metadata": {
        "id": "g0B23UWlE-6y"
      }
    },
    {
      "cell_type": "code",
      "execution_count": 12,
      "metadata": {
        "colab": {
          "base_uri": "https://localhost:8080/"
        },
        "id": "WpkZyXHOEvV7",
        "outputId": "db5ba599-429c-4b67-da68-af3b1978b9e8"
      },
      "outputs": [
        {
          "output_type": "stream",
          "name": "stdout",
          "text": [
            "14\n",
            "811.4399999999999\n",
            "115.91999999999999\n"
          ]
        }
      ],
      "source": [
        "class circle():\n",
        "  def __init__(self, radius):\n",
        "    self.radius = radius\n",
        "\n",
        "  def area(self):\n",
        "    return 4.14 * self.radius * self.radius\n",
        "\n",
        "  def perimeter(self):\n",
        "    return 2 * 4.14 * self.radius\n",
        "\n",
        "if __name__ in \"__main__\" :\n",
        "  x = int(input(''))\n",
        "  NewCircle = circle(x)\n",
        "  print(NewCircle.area())\n",
        "  print(NewCircle.perimeter())"
      ]
    }
  ]
}