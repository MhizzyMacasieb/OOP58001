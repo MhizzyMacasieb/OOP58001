{
  "nbformat": 4,
  "nbformat_minor": 0,
  "metadata": {
    "colab": {
      "provenance": [],
      "authorship_tag": "ABX9TyP2/N3Yd0l0IgqCRmIBNeuE",
      "include_colab_link": true
    },
    "kernelspec": {
      "name": "python3",
      "display_name": "Python 3"
    },
    "language_info": {
      "name": "python"
    }
  },
  "cells": [
    {
      "cell_type": "markdown",
      "metadata": {
        "id": "view-in-github",
        "colab_type": "text"
      },
      "source": [
        "<a href=\"https://colab.research.google.com/github/MhizzyMacasieb/OOP58001/blob/main/Lab_Activity_2.ipynb\" target=\"_parent\"><img src=\"https://colab.research.google.com/assets/colab-badge.svg\" alt=\"Open In Colab\"/></a>"
      ]
    },
    {
      "cell_type": "code",
      "execution_count": 1,
      "metadata": {
        "colab": {
          "base_uri": "https://localhost:8080/"
        },
        "id": "saUHCJY7Mide",
        "outputId": "535cd6fa-2b20-446f-de1e-a50455a7a007"
      },
      "outputs": [
        {
          "output_type": "stream",
          "name": "stdout",
          "text": [
            "Enter the radius of the circle: 14\n",
            "The Perimeter of the Circle is:  87.96459430051421\n",
            "The Area of the Circle is:  615.7521601035994\n"
          ]
        }
      ],
      "source": [
        "import math \n",
        "\n",
        "class Circle:\n",
        "  def __init__ (self, radius):\n",
        "    self.radius = radius\n",
        "    self.pi = math.pi\n",
        "  def Perimeter(self):\n",
        "    return 2 * self.pi * self.radius\n",
        "  def Area(self):\n",
        "    return self.pi * (self.radius ** 2)\n",
        "  def Display(self):\n",
        "    print(\"The Perimeter of the Circle is: \", self.Perimeter())\n",
        "    print(\"The Area of the Circle is: \", self.Area())\n",
        "\n",
        "circle = Circle(float(input(\"Enter the radius of the circle: \")))\n",
        "circle.Display()"
      ]
    }
  ]
}